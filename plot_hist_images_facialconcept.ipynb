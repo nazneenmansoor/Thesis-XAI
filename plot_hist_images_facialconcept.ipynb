{
 "cells": [
  {
   "cell_type": "code",
   "execution_count": 3,
   "metadata": {},
   "outputs": [
    {
     "name": "stdout",
     "output_type": "stream",
     "text": [
      "['Hair', 'Hair', 'Hair', 'Hair', 'Hair', 'Hair', 'Hair', 'Hair', 'Hair', 'Hair', 'Hair', 'Hair', 'Hair', 'Hair', 'Hair', 'Hair', 'Hair', 'Hair', 'Hair', 'Hair', 'Hair', 'Hair', 'Hair', 'Hair', 'Hair', 'Hair', 'Hair', 'Hair', 'Hair', 'Hair', 'Hair', 'Hair', 'Hair', 'Hair', 'Hair', 'Hair', 'Hair', 'Hair', 'Hair', 'Hair', 'Hair', 'Hair', 'Hair', 'Hair', 'Hair', 'Hair', 'Hair', 'Hair', 'Hair', 'Hair', 'Hair', 'Hair', 'Hair', 'Hair', 'Hair', 'Hair', 'Hair', 'Hair', 'Hair', 'Hair', 'Hair', 'Hair', 'Hair', 'Hair', 'Hair', 'Hair', 'Hair', 'Hair', 'Hair', 'Hair', 'Hair', 'Hair', 'Hair', 'Hair', 'Hair', 'Hair', 'Hair', 'Hair', 'Hair', 'Hair', 'Hair', 'Hair', 'Hair', 'Hair', 'Hair', 'Hair', 'Hair', 'Hair', 'Hair', 'Hair', 'Hair', 'Hair', 'Hair', 'Hair', 'Hair', 'Hair', 'Hair', 'Hair', 'Left Brow', 'Left Brow', 'Left Brow', 'Left Brow', 'Left Brow', 'Left Brow', 'Left Brow', 'Left Brow', 'Left Brow', 'Left Brow', 'Left Brow', 'Left Brow', 'Left Brow', 'Left Brow', 'Left Brow', 'Left Brow', 'Left Brow', 'Left Brow', 'Left Brow', 'Left Brow', 'Left Brow', 'Left Brow', 'Left Brow', 'Left Brow', 'Left Brow', 'Left Brow', 'Left Brow', 'Left Brow', 'Left Brow', 'Left Brow', 'Left Brow', 'Left Brow', 'Left Brow', 'Left Brow', 'Left Brow', 'Left Brow', 'Left Brow', 'Left Brow', 'Left Brow', 'Left Brow', 'Left Brow', 'Left Brow', 'Left Brow', 'Left Brow', 'Left Brow', 'Left Brow', 'Left Brow', 'Left Brow', 'Left Brow', 'Left Brow', 'Left Brow', 'Left Brow', 'Left Brow', 'Left Brow', 'Left Brow', 'Left Brow', 'Left Brow', 'Left Brow', 'Left Brow', 'Left Brow', 'Left Brow', 'Left Brow', 'Left Brow', 'Left Brow', 'Left Brow', 'Left Brow', 'Left Brow', 'Left Brow', 'Left Brow', 'Left Brow', 'Left Brow', 'Left Brow', 'Left Brow', 'Left Brow', 'Left Brow', 'Left Brow', 'Left Brow', 'Left Brow', 'Left Brow', 'Left Brow', 'Left Brow', 'Left Brow', 'Left Brow', 'Left Brow', 'Left Brow', 'Left Brow', 'Left Brow', 'Left Brow', 'Left Brow', 'Left Brow', 'Left Brow', 'Left Brow', 'Left Brow', 'Left Brow', 'Left Brow', 'Left Brow', 'Left Brow', 'Left Brow', 'Left Brow', 'Left Eye', 'Left Eye', 'Left Eye', 'Left Eye', 'Left Eye', 'Left Eye', 'Left Eye', 'Left Eye', 'Left Eye', 'Left Eye', 'Left Eye', 'Left Eye', 'Left Eye', 'Left Eye', 'Left Eye', 'Left Eye', 'Left Eye', 'Left Eye', 'Left Eye', 'Left Eye', 'Left Eye', 'Left Eye', 'Left Eye', 'Left Eye', 'Left Eye', 'Left Eye', 'Left Eye', 'Left Eye', 'Left Eye', 'Left Eye', 'Left Eye', 'Left Eye', 'Left Eye', 'Left Eye', 'Left Eye', 'Left Eye', 'Left Eye', 'Left Eye', 'Left Eye', 'Left Eye', 'Left Eye', 'Left Eye', 'Left Eye', 'Left Eye', 'Left Eye', 'Left Eye', 'Left Eye', 'Left Eye', 'Left Eye', 'Left Eye', 'Left Eye', 'Left Eye', 'Left Eye', 'Left Eye', 'Left Eye', 'Left Eye', 'Left Eye', 'Left Eye', 'Left Eye', 'Left Eye', 'Left Eye', 'Left Eye', 'Left Eye', 'Left Eye', 'Left Eye', 'Left Eye', 'Left Eye', 'Left Eye', 'Left Eye', 'Left Eye', 'Left Eye', 'Left Eye', 'Left Eye', 'Left Eye', 'Left Eye', 'Left Eye', 'Left Eye', 'Left Eye', 'Left Eye', 'Left Eye', 'Left Eye', 'Left Eye', 'Left Eye', 'Left Eye', 'Left Eye', 'Left Eye', 'Left Eye', 'Left Eye', 'Left Eye', 'Left Eye', 'Left Eye', 'Left Eye', 'Left Eye', 'Left Eye', 'Left Eye', 'Left Eye', 'Left Eye', 'Left Eye', 'Left Eye', 'Left Eye', 'Lower Lip', 'Lower Lip', 'Lower Lip', 'Lower Lip', 'Lower Lip', 'Lower Lip', 'Lower Lip', 'Lower Lip', 'Lower Lip', 'Lower Lip', 'Lower Lip', 'Lower Lip', 'Lower Lip', 'Lower Lip', 'Lower Lip', 'Lower Lip', 'Lower Lip', 'Lower Lip', 'Lower Lip', 'Lower Lip', 'Lower Lip', 'Lower Lip', 'Lower Lip', 'Lower Lip', 'Lower Lip', 'Lower Lip', 'Lower Lip', 'Lower Lip', 'Lower Lip', 'Lower Lip', 'Lower Lip', 'Lower Lip', 'Lower Lip', 'Lower Lip', 'Lower Lip', 'Lower Lip', 'Lower Lip', 'Lower Lip', 'Lower Lip', 'Lower Lip', 'Lower Lip', 'Lower Lip', 'Lower Lip', 'Lower Lip', 'Lower Lip', 'Lower Lip', 'Lower Lip', 'Lower Lip', 'Lower Lip', 'Lower Lip', 'Lower Lip', 'Lower Lip', 'Lower Lip', 'Lower Lip', 'Lower Lip', 'Lower Lip', 'Lower Lip', 'Lower Lip', 'Lower Lip', 'Lower Lip', 'Lower Lip', 'Lower Lip', 'Lower Lip', 'Lower Lip', 'Lower Lip', 'Lower Lip', 'Lower Lip', 'Lower Lip', 'Lower Lip', 'Lower Lip', 'Lower Lip', 'Lower Lip', 'Lower Lip', 'Lower Lip', 'Lower Lip', 'Lower Lip', 'Lower Lip', 'Lower Lip', 'Lower Lip', 'Lower Lip', 'Lower Lip', 'Lower Lip', 'Lower Lip', 'Lower Lip', 'Lower Lip', 'Lower Lip', 'Lower Lip', 'Lower Lip', 'Lower Lip', 'Lower Lip', 'Lower Lip', 'Lower Lip', 'Lower Lip', 'Lower Lip', 'Lower Lip', 'Lower Lip', 'Lower Lip', 'Lower Lip', 'Lower Lip', 'Mouth', 'Mouth', 'Mouth', 'Mouth', 'Mouth', 'Mouth', 'Mouth', 'Mouth', 'Mouth', 'Mouth', 'Mouth', 'Mouth', 'Mouth', 'Mouth', 'Mouth', 'Mouth', 'Mouth', 'Mouth', 'Mouth', 'Mouth', 'Mouth', 'Mouth', 'Mouth', 'Mouth', 'Mouth', 'Mouth', 'Mouth', 'Mouth', 'Mouth', 'Mouth', 'Mouth', 'Mouth', 'Mouth', 'Mouth', 'Mouth', 'Mouth', 'Mouth', 'Mouth', 'Mouth', 'Mouth', 'Mouth', 'Mouth', 'Mouth', 'Mouth', 'Mouth', 'Mouth', 'Mouth', 'Mouth', 'Mouth', 'Mouth', 'Mouth', 'Mouth', 'Mouth', 'Neck', 'Neck', 'Neck', 'Neck', 'Neck', 'Neck', 'Neck', 'Neck', 'Neck', 'Neck', 'Neck', 'Neck', 'Neck', 'Neck', 'Neck', 'Neck', 'Neck', 'Neck', 'Neck', 'Neck', 'Neck', 'Neck', 'Neck', 'Neck', 'Neck', 'Neck', 'Neck', 'Neck', 'Neck', 'Neck', 'Neck', 'Neck', 'Neck', 'Neck', 'Neck', 'Neck', 'Neck', 'Neck', 'Neck', 'Neck', 'Neck', 'Neck', 'Neck', 'Neck', 'Neck', 'Neck', 'Neck', 'Neck', 'Neck', 'Neck', 'Neck', 'Neck', 'Neck', 'Neck', 'Neck', 'Neck', 'Neck', 'Neck', 'Neck', 'Neck', 'Neck', 'Neck', 'Neck', 'Neck', 'Neck', 'Neck', 'Neck', 'Neck', 'Neck', 'Neck', 'Neck', 'Neck', 'Neck', 'Neck', 'Neck', 'Neck', 'Neck', 'Neck', 'Neck', 'Neck', 'Neck', 'Neck', 'Neck', 'Neck', 'Neck', 'Neck', 'Neck', 'Neck', 'Neck', 'Neck', 'Neck', 'Neck', 'Neck', 'Neck', 'Neck', 'Neck', 'Neck', 'Neck', 'Neck', 'Nose', 'Nose', 'Nose', 'Nose', 'Nose', 'Nose', 'Nose', 'Nose', 'Nose', 'Nose', 'Nose', 'Nose', 'Nose', 'Nose', 'Nose', 'Nose', 'Nose', 'Nose', 'Nose', 'Nose', 'Nose', 'Nose', 'Nose', 'Nose', 'Nose', 'Nose', 'Nose', 'Nose', 'Nose', 'Nose', 'Nose', 'Nose', 'Nose', 'Nose', 'Nose', 'Nose', 'Nose', 'Nose', 'Nose', 'Nose', 'Nose', 'Nose', 'Nose', 'Nose', 'Nose', 'Nose', 'Nose', 'Nose', 'Nose', 'Nose', 'Nose', 'Nose', 'Nose', 'Nose', 'Nose', 'Nose', 'Nose', 'Nose', 'Nose', 'Nose', 'Nose', 'Nose', 'Nose', 'Nose', 'Nose', 'Nose', 'Nose', 'Nose', 'Nose', 'Nose', 'Nose', 'Nose', 'Nose', 'Nose', 'Nose', 'Nose', 'Nose', 'Nose', 'Nose', 'Nose', 'Nose', 'Nose', 'Nose', 'Nose', 'Nose', 'Nose', 'Nose', 'Nose', 'Nose', 'Nose', 'Nose', 'Nose', 'Nose', 'Nose', 'Nose', 'Nose', 'Nose', 'Nose', 'Nose', 'Nose', 'Right Brow', 'Right Brow', 'Right Brow', 'Right Brow', 'Right Brow', 'Right Brow', 'Right Brow', 'Right Brow', 'Right Brow', 'Right Brow', 'Right Brow', 'Right Brow', 'Right Brow', 'Right Brow', 'Right Brow', 'Right Brow', 'Right Brow', 'Right Brow', 'Right Brow', 'Right Brow', 'Right Brow', 'Right Brow', 'Right Brow', 'Right Brow', 'Right Brow', 'Right Brow', 'Right Brow', 'Right Brow', 'Right Brow', 'Right Brow', 'Right Brow', 'Right Brow', 'Right Brow', 'Right Brow', 'Right Brow', 'Right Brow', 'Right Brow', 'Right Brow', 'Right Brow', 'Right Brow', 'Right Brow', 'Right Brow', 'Right Brow', 'Right Brow', 'Right Brow', 'Right Brow', 'Right Brow', 'Right Brow', 'Right Brow', 'Right Brow', 'Right Brow', 'Right Brow', 'Right Brow', 'Right Brow', 'Right Brow', 'Right Brow', 'Right Brow', 'Right Brow', 'Right Brow', 'Right Brow', 'Right Brow', 'Right Brow', 'Right Brow', 'Right Brow', 'Right Brow', 'Right Brow', 'Right Brow', 'Right Brow', 'Right Brow', 'Right Brow', 'Right Brow', 'Right Brow', 'Right Brow', 'Right Brow', 'Right Brow', 'Right Brow', 'Right Brow', 'Right Brow', 'Right Brow', 'Right Brow', 'Right Brow', 'Right Brow', 'Right Brow', 'Right Brow', 'Right Brow', 'Right Brow', 'Right Brow', 'Right Brow', 'Right Brow', 'Right Brow', 'Right Brow', 'Right Brow', 'Right Brow', 'Right Brow', 'Right Brow', 'Right Brow', 'Right Brow', 'Right Brow', 'Right Brow', 'Right Eye', 'Right Eye', 'Right Eye', 'Right Eye', 'Right Eye', 'Right Eye', 'Right Eye', 'Right Eye', 'Right Eye', 'Right Eye', 'Right Eye', 'Right Eye', 'Right Eye', 'Right Eye', 'Right Eye', 'Right Eye', 'Right Eye', 'Right Eye', 'Right Eye', 'Right Eye', 'Right Eye', 'Right Eye', 'Right Eye', 'Right Eye', 'Right Eye', 'Right Eye', 'Right Eye', 'Right Eye', 'Right Eye', 'Right Eye', 'Right Eye', 'Right Eye', 'Right Eye', 'Right Eye', 'Right Eye', 'Right Eye', 'Right Eye', 'Right Eye', 'Right Eye', 'Right Eye', 'Right Eye', 'Right Eye', 'Right Eye', 'Right Eye', 'Right Eye', 'Right Eye', 'Right Eye', 'Right Eye', 'Right Eye', 'Right Eye', 'Right Eye', 'Right Eye', 'Right Eye', 'Right Eye', 'Right Eye', 'Right Eye', 'Right Eye', 'Right Eye', 'Right Eye', 'Right Eye', 'Right Eye', 'Right Eye', 'Right Eye', 'Right Eye', 'Right Eye', 'Right Eye', 'Right Eye', 'Right Eye', 'Right Eye', 'Right Eye', 'Right Eye', 'Right Eye', 'Right Eye', 'Right Eye', 'Right Eye', 'Right Eye', 'Right Eye', 'Right Eye', 'Right Eye', 'Right Eye', 'Right Eye', 'Right Eye', 'Right Eye', 'Right Eye', 'Right Eye', 'Right Eye', 'Right Eye', 'Right Eye', 'Right Eye', 'Right Eye', 'Right Eye', 'Right Eye', 'Right Eye', 'Right Eye', 'Right Eye', 'Right Eye', 'Right Eye', 'Right Eye', 'Right Eye', 'Right Eye', 'Skin', 'Skin', 'Skin', 'Skin', 'Skin', 'Skin', 'Skin', 'Skin', 'Skin', 'Skin', 'Skin', 'Skin', 'Skin', 'Skin', 'Skin', 'Skin', 'Skin', 'Skin', 'Skin', 'Skin', 'Skin', 'Skin', 'Skin', 'Skin', 'Skin', 'Skin', 'Skin', 'Skin', 'Skin', 'Skin', 'Skin', 'Skin', 'Skin', 'Skin', 'Skin', 'Skin', 'Skin', 'Skin', 'Skin', 'Skin', 'Skin', 'Skin', 'Skin', 'Skin', 'Skin', 'Skin', 'Skin', 'Skin', 'Skin', 'Skin', 'Skin', 'Skin', 'Skin', 'Skin', 'Skin', 'Skin', 'Skin', 'Skin', 'Skin', 'Skin', 'Skin', 'Skin', 'Skin', 'Skin', 'Skin', 'Skin', 'Skin', 'Skin', 'Skin', 'Skin', 'Skin', 'Skin', 'Skin', 'Skin', 'Skin', 'Skin', 'Skin', 'Skin', 'Skin', 'Skin', 'Skin', 'Skin', 'Skin', 'Skin', 'Skin', 'Skin', 'Skin', 'Skin', 'Skin', 'Skin', 'Skin', 'Skin', 'Skin', 'Skin', 'Skin', 'Skin', 'Skin', 'Skin', 'Skin', 'Skin', 'Upper Lip', 'Upper Lip', 'Upper Lip', 'Upper Lip', 'Upper Lip', 'Upper Lip', 'Upper Lip', 'Upper Lip', 'Upper Lip', 'Upper Lip', 'Upper Lip', 'Upper Lip', 'Upper Lip', 'Upper Lip', 'Upper Lip', 'Upper Lip', 'Upper Lip', 'Upper Lip', 'Upper Lip', 'Upper Lip', 'Upper Lip', 'Upper Lip', 'Upper Lip', 'Upper Lip', 'Upper Lip', 'Upper Lip', 'Upper Lip', 'Upper Lip', 'Upper Lip', 'Upper Lip', 'Upper Lip', 'Upper Lip', 'Upper Lip', 'Upper Lip', 'Upper Lip', 'Upper Lip', 'Upper Lip', 'Upper Lip', 'Upper Lip', 'Upper Lip', 'Upper Lip', 'Upper Lip', 'Upper Lip', 'Upper Lip', 'Upper Lip', 'Upper Lip', 'Upper Lip', 'Upper Lip', 'Upper Lip', 'Upper Lip', 'Upper Lip', 'Upper Lip', 'Upper Lip', 'Upper Lip', 'Upper Lip', 'Upper Lip', 'Upper Lip', 'Upper Lip', 'Upper Lip', 'Upper Lip', 'Upper Lip', 'Upper Lip', 'Upper Lip', 'Upper Lip', 'Upper Lip', 'Upper Lip', 'Upper Lip', 'Upper Lip', 'Upper Lip', 'Upper Lip', 'Upper Lip', 'Upper Lip', 'Upper Lip', 'Upper Lip', 'Upper Lip', 'Upper Lip', 'Upper Lip', 'Upper Lip', 'Upper Lip', 'Upper Lip', 'Upper Lip', 'Upper Lip', 'Upper Lip', 'Upper Lip', 'Upper Lip', 'Upper Lip', 'Upper Lip', 'Upper Lip', 'Upper Lip', 'Upper Lip', 'Upper Lip', 'Upper Lip', 'Upper Lip', 'Upper Lip', 'Upper Lip', 'Upper Lip', 'Upper Lip', 'Upper Lip', 'Upper Lip', 'Cloth', 'Cloth', 'Cloth', 'Cloth', 'Cloth', 'Cloth', 'Cloth', 'Cloth', 'Cloth', 'Cloth', 'Cloth', 'Cloth', 'Cloth', 'Cloth', 'Cloth', 'Cloth', 'Cloth', 'Cloth', 'Cloth', 'Cloth', 'Cloth', 'Cloth', 'Cloth', 'Cloth', 'Cloth', 'Cloth', 'Cloth', 'Cloth', 'Cloth', 'Cloth', 'Cloth', 'Cloth', 'Cloth', 'Cloth', 'Cloth', 'Cloth', 'Cloth', 'Cloth', 'Cloth', 'Cloth', 'Cloth', 'Cloth', 'Cloth', 'Cloth', 'Cloth', 'Cloth', 'Cloth', 'Cloth', 'Cloth', 'Cloth', 'Cloth', 'Cloth', 'Left Ear', 'Left Ear', 'Left Ear', 'Left Ear', 'Left Ear', 'Left Ear', 'Left Ear', 'Left Ear', 'Left Ear', 'Left Ear', 'Left Ear', 'Left Ear', 'Left Ear', 'Left Ear', 'Left Ear', 'Left Ear', 'Left Ear', 'Left Ear', 'Left Ear', 'Left Ear', 'Left Ear', 'Left Ear', 'Left Ear', 'Left Ear', 'Left Ear', 'Left Ear', 'Left Ear', 'Left Ear', 'Left Ear', 'Left Ear', 'Left Ear', 'Left Ear', 'Left Ear', 'Left Ear', 'Left Ear', 'Left Ear', 'Left Ear', 'Left Ear', 'Left Ear', 'Left Ear', 'Left Ear', 'Left Ear', 'Left Ear', 'Left Ear', 'Left Ear', 'Left Ear', 'Left Ear', 'Left Ear', 'Left Ear', 'Left Ear', 'Left Ear', 'Left Ear', 'Left Ear', 'Right Ear', 'Right Ear', 'Right Ear', 'Right Ear', 'Right Ear', 'Right Ear', 'Right Ear', 'Right Ear', 'Right Ear', 'Right Ear', 'Right Ear', 'Right Ear', 'Right Ear', 'Right Ear', 'Right Ear', 'Right Ear', 'Right Ear', 'Right Ear', 'Right Ear', 'Right Ear', 'Right Ear', 'Right Ear', 'Right Ear', 'Right Ear', 'Right Ear', 'Right Ear', 'Right Ear', 'Right Ear', 'Right Ear', 'Right Ear', 'Right Ear', 'Right Ear', 'Right Ear', 'Right Ear', 'Right Ear', 'Right Ear', 'Right Ear', 'Right Ear', 'Right Ear', 'Right Ear', 'Right Ear', 'Right Ear', 'Right Ear', 'Right Ear', 'Right Ear', 'Right Ear', 'Right Ear', 'Right Ear', 'Right Ear', 'Right Ear', 'Right Ear', 'Hat', 'Hat', 'Hat', 'Hat', 'Earring', 'Earring', 'Earring', 'Earring', 'Earring', 'Earring', 'Earring', 'Earring', 'Earring', 'Earring', 'Earring', 'Earring', 'Earring', 'Earring', 'Earring', 'Earring', 'Earring', 'Earring', 'Earring', 'Earring', 'Earring', 'Earring', 'Earring', 'Earring', 'Earring', 'Earring', 'Earring', 'Earring', 'Eye Glasses', 'Eye Glasses']\n"
     ]
    }
   ],
   "source": [
    "import os\n",
    "from os import listdir\n",
    " \n",
    "# get the path/directory\n",
    "folder_dir = r\"D:\\thesis\\DF_Face-dictionary\\masked_images\"\n",
    "\n",
    "arr1= []\n",
    "arr2 = []\n",
    "arr3 = []\n",
    "arr4 = []\n",
    "arr5 = []\n",
    "arr6 = []\n",
    "arr7 = []\n",
    "arr8 = []\n",
    "arr9 = []\n",
    "arr10 = []\n",
    "arr11 = []\n",
    "arr12 = []\n",
    "arr13 = []\n",
    "arr14 = []\n",
    "arr15 = []\n",
    "arr16 = []\n",
    "arr17 = []\n",
    "list_images = []\n",
    "\n",
    "for images in os.listdir(folder_dir):\n",
    " \n",
    "    # check if the image ends with png\n",
    "    if (images.endswith(\"hair.png\")):\n",
    "        arr1.append('Hair')\n",
    "    elif (images.endswith(\"l_brow.png\")):\n",
    "        arr2.append('Left Brow')\n",
    "    elif (images.endswith(\"l_eye.png\")):\n",
    "        arr3.append('Left Eye')\n",
    "    elif (images.endswith(\"l_lip.png\")):\n",
    "        arr4.append('Lower Lip')\n",
    "    elif (images.endswith(\"mouth.png\")):\n",
    "        arr5.append('Mouth')\n",
    "    elif (images.endswith(\"neck.png\")):\n",
    "        arr6.append('Neck')\n",
    "    elif (images.endswith(\"nose.png\")):\n",
    "        arr7.append('Nose')\n",
    "    elif (images.endswith(\"r_brow.png\")):\n",
    "        arr8.append('Right Brow')\n",
    "    elif (images.endswith(\"r_eye.png\")):\n",
    "        arr9.append('Right Eye')\n",
    "    elif (images.endswith(\"skin.png\")):\n",
    "        arr10.append('Skin')\n",
    "    elif (images.endswith(\"u_lip.png\")):\n",
    "        arr11.append('Upper Lip')\n",
    "    elif (images.endswith(\"cloth.png\")):\n",
    "        arr12.append('Cloth')\n",
    "    elif (images.endswith(\"l_ear.png\")):\n",
    "        arr13.append('Left Ear')\n",
    "    elif (images.endswith(\"r_ear.png\")):\n",
    "        arr14.append('Right Ear')\n",
    "    elif (images.endswith(\"hat.png\")):\n",
    "        arr15.append('Hat')\n",
    "    elif (images.endswith(\"ear_r.png\")):\n",
    "        arr16.append('Earring')\n",
    "    elif (images.endswith(\"eye_g.png\")):\n",
    "        arr17.append('Eye Glasses')\n",
    "\n",
    "\n",
    "list_images = arr1 + arr2 + arr3 + arr4 + arr5 + arr6 + arr7 + arr8 + arr9 + arr10 + arr11 + arr12 + arr13 + arr14 + arr15 + arr16 + arr17\n",
    "print(list_images)"
   ]
  },
  {
   "cell_type": "code",
   "execution_count": 74,
   "metadata": {},
   "outputs": [],
   "source": [
    "\n",
    "list_images_app.append(arr)"
   ]
  },
  {
   "cell_type": "code",
   "execution_count": 75,
   "metadata": {},
   "outputs": [
    {
     "data": {
      "text/plain": [
       "[['nose.png', 'nose.png', 'nose.png', 'nose.png'],\n",
       " ['hair.png', 'hair.png', 'hair.png', 'hair.png'],\n",
       " ['r_eye.png', 'r_eye.png', 'r_eye.png', 'r_eye.png'],\n",
       " ['cloth.png', 'cloth.png', 'cloth.png'],\n",
       " ['cloth.png', 'cloth.png', 'cloth.png']]"
      ]
     },
     "execution_count": 75,
     "metadata": {},
     "output_type": "execute_result"
    }
   ],
   "source": [
    "list_images_app"
   ]
  },
  {
   "cell_type": "code",
   "execution_count": 72,
   "metadata": {},
   "outputs": [
    {
     "data": {
      "text/plain": [
       "[['nose.png', 'nose.png', 'nose.png', 'nose.png'],\n",
       " ['hair.png', 'hair.png', 'hair.png', 'hair.png'],\n",
       " ['r_eye.png', 'r_eye.png', 'r_eye.png', 'r_eye.png'],\n",
       " ['cloth.png', 'cloth.png', 'cloth.png']]"
      ]
     },
     "execution_count": 72,
     "metadata": {},
     "output_type": "execute_result"
    }
   ],
   "source": [
    "list(list_images_app)\n",
    "list_images_app"
   ]
  },
  {
   "cell_type": "code",
   "execution_count": 7,
   "metadata": {},
   "outputs": [
    {
     "data": {
      "text/plain": [
       "<matplotlib.axes._subplots.AxesSubplot at 0x2a4f51db0b8>"
      ]
     },
     "execution_count": 7,
     "metadata": {},
     "output_type": "execute_result"
    },
    {
     "data": {
      "image/png": "[encoded data removed]",
      "text/plain": [
       "<Figure size 432x288 with 1 Axes>"
      ]
     },
     "metadata": {
      "needs_background": "light"
     },
     "output_type": "display_data"
    }
   ],
   "source": [
    "import pandas\n",
    "from collections import Counter\n",
    "letter_counts = Counter(list_images)\n",
    "df = pandas.DataFrame.from_dict(letter_counts, orient='index')\n",
    "df.plot(kind='bar', color= 'deepskyblue')"
   ]
  },
  {
   "cell_type": "code",
   "execution_count": null,
   "metadata": {},
   "outputs": [],
   "source": []
  }
 ],
 "metadata": {
  "kernelspec": {
   "display_name": "Python 3",
   "language": "python",
   "name": "python3"
  },
  "language_info": {
   "codemirror_mode": {
    "name": "ipython",
    "version": 3
   },
   "file_extension": ".py",
   "mimetype": "text/x-python",
   "name": "python",
   "nbconvert_exporter": "python",
   "pygments_lexer": "ipython3",
   "version": "3.7.1"
  }
 },
 "nbformat": 4,
 "nbformat_minor": 2
}
